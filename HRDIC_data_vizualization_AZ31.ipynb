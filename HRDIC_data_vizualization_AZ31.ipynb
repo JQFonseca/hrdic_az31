{
 "cells": [
  {
   "cell_type": "markdown",
   "metadata": {},
   "source": [
    "# Why magnesium is not brittle: a quantitative study on the accommodation of deformation incompatibility\n",
    "\n",
    "\n",
    "\n",
    "## Companion python jupyter notebook for interactive data vizualization and exploration\n",
    "\n",
    "This notebook is made available to facilitate the visualization and exploration of the HRDIC data in the manuscript \"Why magnesium is not brittle: a quantitative study on the accommodation of deformation incompatibility\", submitted to Acta Materialia in March 2017. \n",
    "\n",
    "The dataset can be downloaded from [Zenodo](give url) as either a text file or a python data pickle."
   ]
  },
  {
   "cell_type": "markdown",
   "metadata": {},
   "source": [
    "This notebook uses a helper module called hrdic_analysis_short.py which can be downloaded from the same GitHub repository. In addition the notebook requires `numpy` and `matplotlib`. This notebook was created using `python 3.5.0` `numpy 1.11.3` and `matplotlib 2.0.0` and it worked well when we used it."
   ]
  },
  {
   "cell_type": "markdown",
   "metadata": {},
   "source": [
    "### Loading data"
   ]
  },
  {
   "cell_type": "code",
   "execution_count": 1,
   "metadata": {
    "collapsed": false
   },
   "outputs": [],
   "source": [
    "import numpy as np\n",
    "import matplotlib.pyplot as plt\n",
    "import hrdic_analysis_short as hrdic\n",
    "from ipywidgets import interact, interactive, fixed\n",
    "%matplotlib"
   ]
  },
  {
   "cell_type": "markdown",
   "metadata": {},
   "source": [
    "The dataset is loaded with the following commands:"
   ]
  },
  {
   "cell_type": "code",
   "execution_count": 2,
   "metadata": {
    "collapsed": false
   },
   "outputs": [],
   "source": [
    "#using the .txt is much slower than the binary .npy\n",
    "#def_map=hrdic.DeformationMap('../data/','AZ31.txt')\n",
    "def_map=hrdic.DeformationMapFast('../data/','AZ31.npy')"
   ]
  },
  {
   "cell_type": "markdown",
   "metadata": {},
   "source": [
    "The edges of the map can be cropped to remove edge artifacts:"
   ]
  },
  {
   "cell_type": "code",
   "execution_count": 3,
   "metadata": {
    "collapsed": false
   },
   "outputs": [],
   "source": [
    "du11_cropped= def_map.du11[220:-10,30:-175]\n",
    "du22_cropped= def_map.du22[220:-10,30:-175]\n",
    "max_shear_cropped= def_map.max_shear[220:-10,30:-175]"
   ]
  },
  {
   "cell_type": "markdown",
   "metadata": {},
   "source": [
    "### Interactive visualization"
   ]
  },
  {
   "cell_type": "code",
   "execution_count": 4,
   "metadata": {
    "collapsed": false
   },
   "outputs": [],
   "source": [
    "f,ax=plt.subplots(1,1,figsize=(9,5))\n",
    "image_map=ax.imshow(du11_cropped,\n",
    "                    vmin=0,\n",
    "                    vmax=0.09,\n",
    "                    cmap='viridis',\n",
    "                    interpolation='bilinear')\n",
    "plt.colorbar(image_map);"
   ]
  },
  {
   "cell_type": "markdown",
   "metadata": {},
   "source": [
    "The interactive view of the displacement gradient components:"
   ]
  },
  {
   "cell_type": "code",
   "execution_count": 5,
   "metadata": {
    "collapsed": false
   },
   "outputs": [],
   "source": [
    "interactive(hrdic.scrub, fig=fixed(image_map), fmap=fixed(def_map),\n",
    "            component=('u1,1','u2,2','u1,2','u2,1','Max shear'),\n",
    "            colourmap= ('viridis','bwr'),\n",
    "            cmin=(-0.05,1.9,0.01),\n",
    "            cmax=(0.0,2.0,0.01))"
   ]
  }
 ],
 "metadata": {
  "kernelspec": {
   "display_name": "Python [default]",
   "language": "python",
   "name": "python3"
  },
  "language_info": {
   "codemirror_mode": {
    "name": "ipython",
    "version": 3
   },
   "file_extension": ".py",
   "mimetype": "text/x-python",
   "name": "python",
   "nbconvert_exporter": "python",
   "pygments_lexer": "ipython3",
   "version": "3.5.2"
  }
 },
 "nbformat": 4,
 "nbformat_minor": 0
}
